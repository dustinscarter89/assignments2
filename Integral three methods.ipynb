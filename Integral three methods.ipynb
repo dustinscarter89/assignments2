{
 "cells": [
  {
   "cell_type": "code",
   "execution_count": 13,
   "metadata": {},
   "outputs": [],
   "source": [
    "import numpy as np\n",
    "import matplotlib.pyplot as plt\n",
    "import math as ma\n",
    "\n",
    "def Trapezoid(start, end, parts, plot=1):\n",
    "   \n",
    "    #define the function\n",
    "    f = lambda x: ma.e**(-x**2) \n",
    "    \n",
    "    #define the X, Y points \n",
    "    deltax = (end - start) / parts\n",
    "    resultsx = np.linspace(start, end, parts+1)\n",
    "    resultsy = f(resultsx)\n",
    "\n",
    "    # To calculate the area\n",
    "    area = np.empty([parts], float)\n",
    "    for i in range(parts):\n",
    "            area[i] = (resultsy[i]+resultsy[i+1]) * deltax/2\n",
    "\n",
    "    # By default, we also output the plot.\n",
    "    if plot==1:\n",
    "        x = np.linspace(start,end,100)\n",
    "        y = f(x)        \n",
    "        plt.plot(x, y, 'r')\n",
    "        plt.xlim([start,end])\n",
    "        \n",
    "        y2 = np.array([0,0])\n",
    "        for i in range(parts):\n",
    "            x0 = resultsx[i:i+2]\n",
    "            y1 = resultsy[i:i+2]\n",
    "            plt.fill_between(x0, y1, y2, where=y1>=y2, facecolor='blue')\n",
    "            linex, liney = [resultsx[i+1], resultsx[i+1]], [0, resultsy[i+1]]\n",
    "            plt.plot(linex, liney, color='black', linewidth=2.0)        \n",
    "        \n",
    "        plt.show()\n",
    "        print(\"The Sum of the area is: \", sum(area))\n",
    "    \n",
    "    return sum(area)\n",
    "\n"
   ]
  },
  {
   "cell_type": "code",
   "execution_count": 15,
   "metadata": {},
   "outputs": [
    {
     "data": {
      "image/png": "[encoded data removed]",
      "text/plain": [
       "<matplotlib.figure.Figure at 0x11b863160>"
      ]
     },
     "metadata": {},
     "output_type": "display_data"
    },
    {
     "name": "stdout",
     "output_type": "stream",
     "text": [
      "The Sum of the area is:  0.74667083694\n"
     ]
    },
    {
     "data": {
      "text/plain": [
       "0.74667083693987357"
      ]
     },
     "execution_count": 15,
     "metadata": {},
     "output_type": "execute_result"
    }
   ],
   "source": [
    "Trapezoid(0,1,20)"
   ]
  },
  {
   "cell_type": "code",
   "execution_count": 16,
   "metadata": {
    "collapsed": true
   },
   "outputs": [],
   "source": [
    "import matplotlib.pyplot as plt\n",
    "\n",
    "def Simpson(start, end, parts, plot=1):\n",
    "    \"\"\"\n",
    "    Simpson sum rule\n",
    "    \n",
    "    \"\"\"\n",
    "    #define the function\n",
    "    f = lambda x: x**4 - 2*x + 1  \n",
    "    \n",
    "    #define the X, Y points \n",
    "    deltax = (end - start) / parts\n",
    "    resultsx = np.linspace(start, end, parts+1)\n",
    "    resultsy = f(resultsx)\n",
    "\n",
    "    #-----------------------------------------------------\n",
    "    #define the Simpson points and calculate the area here\n",
    "    #-----------------------------------------------------\n",
    "    area = []\n",
    "\n",
    "    #By default, we also output the plot.\n",
    "    if plot==1:\n",
    "        x = np.linspace(start,end,100)\n",
    "        y = f(x)        \n",
    "        plt.plot(x, y, 'r')\n",
    "        \n",
    "        #-----------------------------------------------------\n",
    "        #draw the curves based on Simpson points here\n",
    "        #-----------------------------------------------------             \n",
    "    \n",
    "        plt.xlim([start,end])\n",
    "        plt.ylim([min(y),max(y)])\n",
    "        plt.show()\n",
    "    \n",
    "    return sum(area)"
   ]
  },
  {
   "cell_type": "code",
   "execution_count": null,
   "metadata": {
    "collapsed": true
   },
   "outputs": [],
   "source": []
  },
  {
   "cell_type": "code",
   "execution_count": 17,
   "metadata": {
    "collapsed": true
   },
   "outputs": [],
   "source": [
    "import numpy as np\n",
    "import matplotlib.pyplot as plt\n",
    "import math as ma\n",
    "\n",
    "def Rectangle(start, end, parts, plot=1):\n",
    " \n",
    "    f = lambda x: ma.e**(-x**2)\n",
    "    \n",
    "    #define the X,Y points\n",
    "    deltax = (end - start) / parts\n",
    "    resultsx = np.linspace(start, end, parts)\n",
    "    resultsy = f(resultsx)\n",
    "    print(resultsx)\n",
    "    \n",
    "    # To calculate the area\n",
    "    area = np.empty([parts], float)\n",
    "    for i in range(parts):\n",
    "            area[i] = resultsy[i] * deltax\n",
    "            print(area[i],i)\n",
    "\n",
    "    # By default, we also output the plot.\n",
    "    if plot==1:\n",
    "        x = np.linspace(start,end,100)\n",
    "        y = ma.e**(-x**2)       \n",
    "        plt.plot(x, y, 'r')\n",
    "        #plt.xlim([start,end])\n",
    "        plt.bar(resultsx+deltax/2, resultsy, deltax, edgecolor ='black')\n",
    "        #plt.bar(resultsx, resultsy, deltax, edgecolor ='black')\n",
    "        plt.show()\n",
    "        print(\"The Sum of the area is: \", sum(area))\n",
    "    \n",
    "    return sum(area)"
   ]
  },
  {
   "cell_type": "code",
   "execution_count": 18,
   "metadata": {},
   "outputs": [
    {
     "name": "stdout",
     "output_type": "stream",
     "text": [
      "[ 0.          0.10526316  0.21052632  0.31578947  0.42105263  0.52631579\n",
      "  0.63157895  0.73684211  0.84210526  0.94736842  1.05263158  1.15789474\n",
      "  1.26315789  1.36842105  1.47368421  1.57894737  1.68421053  1.78947368\n",
      "  1.89473684  2.        ]\n",
      "0.1 0\n",
      "0.0988980828371 1\n",
      "0.0956646509201 2\n",
      "0.0905088100239 3\n",
      "0.0837540784499 4\n",
      "0.0758048197515 5\n",
      "0.0671063194569 6\n",
      "0.0581039645331 7\n",
      "0.0492066566323 8\n",
      "0.0407584532862 9\n",
      "0.0330207761937 10\n",
      "0.0261657149568 11\n",
      "0.0202793336148 12\n",
      "0.0153727122935 13\n",
      "0.011397853334 14\n",
      "0.00826554271814 15\n",
      "0.00586266975269 16\n",
      "0.00406719722411 17\n",
      "0.00275975659372 18\n",
      "0.00183156388887 19\n"
     ]
    },
    {
     "data": {
      "image/png": "[encoded data removed]",
      "text/plain": [
       "<matplotlib.figure.Figure at 0x11ba33710>"
      ]
     },
     "metadata": {},
     "output_type": "display_data"
    },
    {
     "name": "stdout",
     "output_type": "stream",
     "text": [
      "The Sum of the area is:  0.888828956461\n"
     ]
    },
    {
     "data": {
      "text/plain": [
       "0.88882895646130766"
      ]
     },
     "execution_count": 18,
     "metadata": {},
     "output_type": "execute_result"
    }
   ],
   "source": [
    "Rectangle(0,2,20)"
   ]
  },
  {
   "cell_type": "code",
   "execution_count": null,
   "metadata": {
    "collapsed": true
   },
   "outputs": [],
   "source": []
  }
 ],
 "metadata": {
  "kernelspec": {
   "display_name": "Python 3",
   "language": "python",
   "name": "python3"
  },
  "language_info": {
   "codemirror_mode": {
    "name": "ipython",
    "version": 3
   },
   "file_extension": ".py",
   "mimetype": "text/x-python",
   "name": "python",
   "nbconvert_exporter": "python",
   "pygments_lexer": "ipython3",
   "version": "3.6.1"
  }
 },
 "nbformat": 4,
 "nbformat_minor": 2
}

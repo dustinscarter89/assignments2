{
 "cells": [
  {
   "cell_type": "code",
   "execution_count": null,
   "metadata": {
    "collapsed": true
   },
   "outputs": [],
   "source": [
    "#Debye's thory of solids gives the heat capacity of a solid at temperature $T$ to be\n",
    "#$$C_V = 9V_\\rho k_B (\\frac{T}{\\theta_D})^3 \\int_0^{\\theta_D/T} \\frac{x^4e^x}{(e^x-1)^2}dx$$\n",
    "#where $V$ is the volume of the solid, $\\rho$ is the density of atoms, $k_B$ is Boltzmann constant, and $\\theta$ is the Debye temperature.\n",
    "#Write a program to calculate $C_V$ for a given value of $T$ for a sample of 1000 $cm^3$ of aluminum, in which the density $\\rho$ is 6.022 $\\times 10^{28} m^3$ and $\\theta_D$ = 428 K.\n",
    "#Plot $C_V$ as a function of temperature from $T$ = 5 K to $T$ = 500 K.\n",
    "\n",
    "\n",
    "#a small program to generate random noise\n",
    "\n",
    "import matplotlib.pyplot as plt\n",
    "import numpy as np\n",
    "\n",
    "\n",
    "V = 1000\n",
    "p = 5.022*10**(28)\n",
    "\n",
    "#define the function\n",
    "f = lambda x: 9*V*p*k(T/O)^3 \n",
    "\n",
    "#define the paramters for the plot\n",
    "a,b = 0,3\n",
    "npoints = 100\n",
    "\n",
    "x = np.linspace(a,b,npoints)\n",
    "y = f(x)\n",
    "plt.plot(x,y)\n",
    "plt.plot(x,f(x))\n",
    "\n",
    "plt.xlabel('x')\n",
    "plt.ylabel('$f(x)$')\n",
    "plt.xlim([a,b])\n",
    "plt.show()"
   ]
  }
 ],
 "metadata": {
  "kernelspec": {
   "display_name": "Python 3",
   "language": "python",
   "name": "python3"
  },
  "language_info": {
   "codemirror_mode": {
    "name": "ipython",
    "version": 3
   },
   "file_extension": ".py",
   "mimetype": "text/x-python",
   "name": "python",
   "nbconvert_exporter": "python",
   "pygments_lexer": "ipython3",
   "version": "3.6.1"
  }
 },
 "nbformat": 4,
 "nbformat_minor": 2
}

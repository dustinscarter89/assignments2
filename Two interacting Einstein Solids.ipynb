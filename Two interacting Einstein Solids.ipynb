{
 "cells": [
  {
   "cell_type": "code",
   "execution_count": 2,
   "metadata": {},
   "outputs": [
    {
     "name": "stdout",
     "output_type": "stream",
     "text": [
      "4.661097983697024e+177\n",
      "1.681391093665753e+96\n"
     ]
    }
   ],
   "source": []
  },
  {
   "cell_type": "code",
   "execution_count": 41,
   "metadata": {},
   "outputs": [
    {
     "name": "stdout",
     "output_type": "stream",
     "text": [
      "0.0 1.0\n",
      "1.0 1.0\n",
      "2.0 0.0\n",
      "3.0 0.0\n",
      "4.0 0.0\n",
      "5.0 0.0\n",
      "6.0 0.0\n",
      "7.0 0.0\n",
      "8.0 0.0\n",
      "9.0 0.0\n",
      "10.0 0.0\n",
      "11.0 0.0\n",
      "12.0 0.0\n",
      "13.0 0.0\n",
      "14.0 0.0\n",
      "15.0 0.0\n",
      "16.0 0.0\n",
      "17.0 0.0\n",
      "18.0 0.0\n",
      "19.0 0.0\n",
      "20.0 0.0\n",
      "21.0 0.0\n",
      "22.0 0.0\n",
      "23.0 0.0\n",
      "24.0 0.0\n",
      "25.0 0.0\n",
      "26.0 0.0\n",
      "27.0 0.0\n",
      "28.0 0.0\n",
      "29.0 0.0\n",
      "30.0 0.0\n",
      "31.0 0.0\n",
      "32.0 0.0\n",
      "33.0 0.0\n",
      "34.0 0.0\n",
      "35.0 0.0\n",
      "36.0 0.0\n",
      "37.0 0.0\n",
      "38.0 0.0\n",
      "39.0 0.0\n",
      "40.0 0.0\n",
      "41.0 0.0\n",
      "42.0 0.0\n",
      "43.0 0.0\n",
      "44.0 0.0\n",
      "45.0 0.0\n",
      "46.0 0.0\n",
      "47.0 0.0\n",
      "48.0 0.0\n",
      "49.0 0.0\n",
      "50.0 0.0\n",
      "51.0 0.0\n",
      "52.0 0.0\n",
      "53.0 0.0\n",
      "54.0 0.0\n",
      "55.0 0.0\n",
      "56.0 0.0\n",
      "57.0 0.0\n",
      "58.0 0.0\n",
      "59.0 0.0\n",
      "60.0 0.0\n",
      "61.0 0.0\n",
      "62.0 0.0\n",
      "63.0 0.0\n",
      "64.0 0.0\n",
      "65.0 0.0\n",
      "66.0 0.0\n",
      "67.0 0.0\n",
      "68.0 0.0\n",
      "69.0 0.0\n",
      "70.0 0.0\n",
      "71.0 0.0\n",
      "72.0 0.0\n",
      "73.0 0.0\n",
      "74.0 0.0\n",
      "75.0 0.0\n",
      "76.0 0.0\n",
      "77.0 0.0\n",
      "78.0 0.0\n",
      "79.0 0.0\n",
      "80.0 0.0\n",
      "81.0 0.0\n",
      "82.0 0.0\n",
      "83.0 0.0\n",
      "84.0 0.0\n",
      "85.0 0.0\n",
      "86.0 0.0\n",
      "87.0 0.0\n",
      "88.0 0.0\n",
      "89.0 0.0\n",
      "90.0 0.0\n",
      "91.0 0.0\n",
      "92.0 0.0\n",
      "93.0 0.0\n",
      "94.0 0.0\n",
      "95.0 0.0\n",
      "96.0 0.0\n",
      "97.0 0.0\n",
      "98.0 0.0\n",
      "99.0 0.0\n",
      "100.0 0.0\n"
     ]
    },
    {
     "data": {
      "image/png": "[encoded data removed]",
      "text/plain": [
       "<matplotlib.figure.Figure at 0x110f56978>"
      ]
     },
     "metadata": {},
     "output_type": "display_data"
    }
   ],
   "source": [
    "\"\"\"\n",
    "Created on Sun Oct 22 17:20:03 2017\n",
    "\n",
    "@author: dustinscarter\n",
    "\"\"\"\n",
    "\n",
    "\n",
    "import matplotlib.pyplot as plt\n",
    "from numpy import linspace\n",
    "\n",
    "\n",
    "def factor(N):\n",
    "    if N == 0 or N == 1:\n",
    "        return 1\n",
    "    else:\n",
    "        total = 1\n",
    "        for i in range(2,300+1):\n",
    "            total *= i\n",
    "        return total\n",
    "\n",
    "\n",
    "y1 = []\n",
    "x = []\n",
    "def Omega(q1):\n",
    "    O = factor(q1+299)/(factor(q1)*factor(299))\n",
    "    return O\n",
    "\n",
    "\n",
    "\n",
    "\n",
    "for i in linspace(1,100,100):\n",
    "    q1 = int(i)\n",
    "    x.append(i)\n",
    "    y1.append(Omega(i))\n",
    "    print(i, Omega(i))\n",
    "\n",
    "\n",
    "\n",
    "\n",
    "\n",
    "    \n",
    "\n",
    "plt.plot(x, y1, 'o', label='Omega')\n",
    "plt.legend()\n",
    "\n",
    "plt.xlabel('q1')\n",
    "plt.ylabel('Omega')\n",
    "plt.show()"
   ]
  },
  {
   "cell_type": "code",
   "execution_count": 44,
   "metadata": {
    "collapsed": true
   },
   "outputs": [],
   "source": [
    "import matplotlib.pyplot as plt\n",
    "from math import log, exp\n",
    "\n",
    "#Multiplicity calculation\n",
    "def factor(N):\n",
    "    N = int(N)\n",
    "    total = 1\n",
    "    if N<0:\n",
    "        print('Error, N must be greater than 0')\n",
    "    elif N>1: \n",
    "        for i in range(2,N+1):\n",
    "            total *= i\n",
    "    return total\n",
    "\n",
    "def Multiplicity(N,n):\n",
    "    #return factor(N)/factor(n)/factor(N-n)\n",
    "    return exp(log(factor(N)) - log(factor(n)) - log(factor(N-n))) #change it to log funtion\n",
    "\n",
    "def Plot_Omega2(N):    \n",
    "\n",
    "    N_series = range(N+1)     \n",
    "    Omega = []\n",
    "\n",
    "    for n in N_series:\n",
    "        Omega.append(Multiplicity(N,n))\n",
    "    \n",
    "    plt.plot(N_series, Omega)\n",
    "    plt.title('N='+str(N))\n",
    "    plt.xlabel('n')\n",
    "    plt.ylabel('$\\Omega(n)$')\n",
    "\n",
    "    plt.show()"
   ]
  },
  {
   "cell_type": "code",
   "execution_count": 48,
   "metadata": {},
   "outputs": [
    {
     "data": {
      "image/png": "[encoded data removed]",
      "text/plain": [
       "<matplotlib.figure.Figure at 0x110af8f60>"
      ]
     },
     "metadata": {},
     "output_type": "display_data"
    }
   ],
   "source": [
    "Plot_Omega2(20)"
   ]
  },
  {
   "cell_type": "code",
   "execution_count": null,
   "metadata": {
    "collapsed": true
   },
   "outputs": [],
   "source": []
  }
 ],
 "metadata": {
  "kernelspec": {
   "display_name": "Python 3",
   "language": "python",
   "name": "python3"
  },
  "language_info": {
   "codemirror_mode": {
    "name": "ipython",
    "version": 3
   },
   "file_extension": ".py",
   "mimetype": "text/x-python",
   "name": "python",
   "nbconvert_exporter": "python",
   "pygments_lexer": "ipython3",
   "version": "3.6.1"
  }
 },
 "nbformat": 4,
 "nbformat_minor": 2
}

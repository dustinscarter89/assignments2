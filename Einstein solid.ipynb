{
 "cells": [
  {
   "cell_type": "code",
   "execution_count": 12,
   "metadata": {},
   "outputs": [
    {
     "name": "stdout",
     "output_type": "stream",
     "text": [
      "Enter the value for N: 8\n",
      "Enter the value for q: 2\n",
      "36.0\n"
     ]
    }
   ],
   "source": [
    "#Oscillator\n",
    "\n",
    "def factor(N):\n",
    "    if N == 0 or N == 1:\n",
    "        return 1\n",
    "    else:\n",
    "        total = 1\n",
    "        for i in range(2,N+1):\n",
    "            total *= i\n",
    "        return total\n",
    "\n",
    "N = int(input(\"Enter the value for N: \"))\n",
    "q = int(input(\"Enter the value for q: \"))\n",
    "\n",
    "def Omega(N,q):\n",
    "    O = factor(q+N - 1)/(factor(q)*factor(N-1))\n",
    "    return O\n",
    "    \n",
    "print(Omega(N,q))"
   ]
  },
  {
   "cell_type": "code",
   "execution_count": null,
   "metadata": {
    "collapsed": true
   },
   "outputs": [],
   "source": []
  },
  {
   "cell_type": "code",
   "execution_count": null,
   "metadata": {
    "collapsed": true
   },
   "outputs": [],
   "source": []
  }
 ],
 "metadata": {
  "kernelspec": {
   "display_name": "Python 3",
   "language": "python",
   "name": "python3"
  },
  "language_info": {
   "codemirror_mode": {
    "name": "ipython",
    "version": 3
   },
   "file_extension": ".py",
   "mimetype": "text/x-python",
   "name": "python",
   "nbconvert_exporter": "python",
   "pygments_lexer": "ipython3",
   "version": "3.6.1"
  }
 },
 "nbformat": 4,
 "nbformat_minor": 2
}

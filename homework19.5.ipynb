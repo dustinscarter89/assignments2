{
 "cells": [
  {
   "cell_type": "code",
   "execution_count": 1,
   "metadata": {},
   "outputs": [
    {
     "data": {
      "image/png": "[encoded data removed]",
      "text/plain": [
       "<matplotlib.figure.Figure at 0x10c4aeda0>"
      ]
     },
     "metadata": {},
     "output_type": "display_data"
    },
    {
     "name": "stdout",
     "output_type": "stream",
     "text": [
      "minimum value:    -0.999999902802\n",
      "minimum value:    1.2600520104\n"
     ]
    }
   ],
   "source": [
    "#!/usr/bin/env python3\n",
    "# -*- coding: utf-8 -*-\n",
    "\"\"\"\n",
    "Created on Tue Oct 31 14:22:53 2017\n",
    "\n",
    "@author: dustinscarter\n",
    "\"\"\"\n",
    "\n",
    "#Write a program to find the ground state of \n",
    "#LJ potential for N=3 (assuming $\\epsilon$ = $\\sigma$ = 1)\n",
    "\n",
    "import numpy as np\n",
    "import matplotlib.pyplot as plt\n",
    "\n",
    "n = 3\n",
    "\n",
    "def LJ(r):\n",
    "    r6 = r**n\n",
    "    r12 = r6*r6\n",
    "    return 4*(1/r12 - 1/r6)\n",
    "\n",
    "\n",
    "\n",
    "r = np.linspace(1.0,3.0,5000)\n",
    "plt.plot(r, LJ(r))\n",
    "plt.show()\n",
    "\n",
    "print('minimum value:   ', min(LJ(r)))\n",
    "\n",
    "x = min(LJ(r))\n",
    "y = (-4/x+(16/x**2+16/x)**(1/2))/2\n",
    "z = y**(1/n)\n",
    "\n",
    "print(\"minimum value:   \",z)"
   ]
  },
  {
   "cell_type": "code",
   "execution_count": null,
   "metadata": {
    "collapsed": true
   },
   "outputs": [],
   "source": []
  }
 ],
 "metadata": {
  "kernelspec": {
   "display_name": "Python 3",
   "language": "python",
   "name": "python3"
  },
  "language_info": {
   "codemirror_mode": {
    "name": "ipython",
    "version": 3
   },
   "file_extension": ".py",
   "mimetype": "text/x-python",
   "name": "python",
   "nbconvert_exporter": "python",
   "pygments_lexer": "ipython3",
   "version": "3.6.1"
  }
 },
 "nbformat": 4,
 "nbformat_minor": 2
}
